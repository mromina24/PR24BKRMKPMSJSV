{
 "cells": [
  {
   "cell_type": "markdown",
   "id": "876b63c0-c4d9-4601-b272-d85a73ad20a8",
   "metadata": {},
   "source": [
    "# Kakovost življenja v EU"
   ]
  },
  {
   "cell_type": "markdown",
   "id": "56d05535-7228-4348-aaad-870677c60417",
   "metadata": {},
   "source": [
    "Pri projektu bomo analizirali oceno kakovosti življenja prebivalcev različnih držav Evropske unije. Zanima nas kateri faktorji npr. BDP na prebivalca države, kvaliteta šolskega sistema, mere neenakosti, občutek varnosti prebivalca, ure dela tedensko oz. work-life balance... najmočneje vplivajo na kakovost življenja posameznika.\r\n",
    "\r\n",
    "Podatke bomo večinoma dobivali iz Eurostata, saj imajo veliko kvalitetnih podatkov o različnih državah Evropske unije, ki jih portal kot je OPSI nima."
   ]
  },
  {
   "cell_type": "markdown",
   "id": "617b6946-f615-45ed-a1e5-ee5db60549e2",
   "metadata": {},
   "source": [
    "## Uvoz podatkov"
   ]
  },
  {
   "cell_type": "code",
   "execution_count": null,
   "id": "f8582993-c3ea-41b1-a4da-614dc207f63d",
   "metadata": {},
   "outputs": [],
   "source": []
  }
 ],
 "metadata": {
  "kernelspec": {
   "display_name": "Python 3 (ipykernel)",
   "language": "python",
   "name": "python3"
  },
  "language_info": {
   "codemirror_mode": {
    "name": "ipython",
    "version": 3
   },
   "file_extension": ".py",
   "mimetype": "text/x-python",
   "name": "python",
   "nbconvert_exporter": "python",
   "pygments_lexer": "ipython3",
   "version": "3.12.1"
  }
 },
 "nbformat": 4,
 "nbformat_minor": 5
}
