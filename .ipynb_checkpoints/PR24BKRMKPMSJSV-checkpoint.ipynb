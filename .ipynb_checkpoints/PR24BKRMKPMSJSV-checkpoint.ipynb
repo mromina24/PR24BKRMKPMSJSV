{
 "cells": [
  {
   "cell_type": "markdown",
   "id": "876b63c0-c4d9-4601-b272-d85a73ad20a8",
   "metadata": {},
   "source": [
    "# Notebook"
   ]
  },
  {
   "cell_type": "code",
   "execution_count": null,
   "id": "4ba55ac9-2382-40ce-adc5-56240adad34e",
   "metadata": {},
   "outputs": [],
   "source": []
  }
 ],
 "metadata": {
  "kernelspec": {
   "display_name": "Python 3 (ipykernel)",
   "language": "python",
   "name": "python3"
  },
  "language_info": {
   "codemirror_mode": {
    "name": "ipython",
    "version": 3
   },
   "file_extension": ".py",
   "mimetype": "text/x-python",
   "name": "python",
   "nbconvert_exporter": "python",
   "pygments_lexer": "ipython3",
   "version": "3.12.1"
  }
 },
 "nbformat": 4,
 "nbformat_minor": 5
}
